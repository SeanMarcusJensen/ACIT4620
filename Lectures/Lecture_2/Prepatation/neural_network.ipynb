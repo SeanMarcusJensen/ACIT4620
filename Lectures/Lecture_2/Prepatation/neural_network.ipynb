{
 "cells": [
  {
   "metadata": {
    "collapsed": true,
    "ExecuteTime": {
     "end_time": "2024-08-25T13:51:06.988890Z",
     "start_time": "2024-08-25T13:51:06.987016Z"
    }
   },
   "cell_type": "code",
   "source": [
    "import pandas as pd\n",
    "import numpy as np\n",
    "\n",
    "import matplotlib.pyplot as plt\n",
    "\n",
    "from neuron import Neuron\n",
    "from activation_functions import Basic, Activation, Sigmoid\n",
    "from layer import Layer\n"
   ],
   "id": "initial_id",
   "outputs": [],
   "execution_count": 18
  },
  {
   "metadata": {
    "ExecuteTime": {
     "end_time": "2024-08-25T13:51:23.720225Z",
     "start_time": "2024-08-25T13:51:23.666809Z"
    }
   },
   "cell_type": "code",
   "source": [
    "\"\"\" Neuron test \"\"\"\n",
    "from random import uniform\n",
    "neuron = Neuron([uniform(-1, 1), uniform(-1, 1)], uniform(-1, 1), Basic())\n",
    "X = np.arange(0.0, 1.0, 0.01)\n",
    "Y = np.sin(np.arange(0.0, 1.0, 0.01) * 10) / 10\n",
    "\n",
    "results = {\n",
    "    'x': [],\n",
    "    'y': [],\n",
    "    'result': []\n",
    "}\n",
    "\n",
    "for x, y in zip(X, Y):\n",
    "    result = neuron.feedforward([x, y])\n",
    "    results['x'].append(x)\n",
    "    results['y'].append(y)\n",
    "    results['result'].append(result)\n",
    "\n",
    "data = pd.DataFrame(results)\n",
    "inactive = data[data['result'] < 1.0]\n",
    "active = data[data['result'] >= 1.0]\n",
    "\n",
    "plt.scatter(inactive.x, inactive.y, color='red')\n",
    "plt.scatter(active.x, active.y, color='green')"
   ],
   "id": "82e3268714092c9d",
   "outputs": [
    {
     "data": {
      "text/plain": [
       "<matplotlib.collections.PathCollection at 0x7e2fc1983ad0>"
      ]
     },
     "execution_count": 20,
     "metadata": {},
     "output_type": "execute_result"
    },
    {
     "data": {
      "text/plain": [
       "<Figure size 640x480 with 1 Axes>"
      ],
      "image/png": "[encoded data removed]"
     },
     "metadata": {},
     "output_type": "display_data"
    }
   ],
   "execution_count": 20
  },
  {
   "metadata": {},
   "cell_type": "markdown",
   "source": [
    "# Neural Network Structure\n",
    "---\n",
    "## Definition One\n",
    "A neural network is structured as a directed graph 'G' where G consists of finite set of *vertices* 'V' and *edges* 'E'.\n",
    "$G = (V, E)$\n",
    "\n",
    "The 'E' is a proper subset of V times V. <br>\n",
    "$E \\subseteq V \\times V$ <br>\n",
    "meaning that the edges are within a matrix of V columns and V rows.<br>\n",
    "\n",
    "$e = (u, v) \\in E$ <br> where the vertex u is directed to the vertex v and is a member of set E\n",
    "\n",
    "## Definition Three\n",
    "A neural network is composed of one **Input Layer**, **Hidden Layer** and **Output Layer**.\n",
    "The network is described as a graph $G = (U, C)$ where U is a set of **Neurons** 'u' $u \\in U$ and edges 'c' $c \\in C$ called **connections**.\n",
    "\n",
    "**Input Layer** is described as $U_{in}$.<br>\n",
    "**Hidden Layer** is described as $U_{hidden}$<br>\n",
    "**Output Layer** is described as $U_{out}$<br>\n",
    "\n",
    "$U = U_{in} \\cup U_{hidden} \\cup U_{out}$\n",
    "Where **Input Layer** and **Output Layer** cannot be empty, and the **Hidden Layer** has no same elements as either **Input** and **Output**<br>\n",
    "$U_{in} \\neq \\phi$<br>\n",
    "$U_{out} \\neq \\phi$<br>\n",
    "$U_{hidden} \\cap (U_{in} \\cup U_{out}) = \\phi$\n",
    "\n",
    "Each connection(**Neuron**) within the network: $(v, u) \\in C$ carries a **weight** $w_{u,v}$ and has three quantities: **Network Input** $net_u$, **Activation Function** $act_u$ and the **Output** $out_u$. While the first layer $U_{in}$ has a fourth input **External Input** $ext_u$. <br>\n",
    "\n",
    "Each **Neuron** $u \\in U$ possesses three functions:<br>\n",
    "**Network Input Function** $f^{(u)}_{net}$<br>\n",
    "**Activation Function** $f^{(u)}_{act}$<br>\n",
    "**Output Function** $f^{(u)}_{out}$<br>\n",
    "\n"
   ],
   "id": "ef70af0c02c9bec1"
  },
  {
   "metadata": {
    "ExecuteTime": {
     "end_time": "2024-08-25T13:49:47.351800Z",
     "start_time": "2024-08-25T13:49:47.350377Z"
    }
   },
   "cell_type": "code",
   "source": [
    "\"\"\" Neural Network Example \"\"\"\n",
    "hidden_layer = Layer(5, Basic())\n",
    "output_layer = Layer(3, Basic())"
   ],
   "id": "128968aa4c28047",
   "outputs": [],
   "execution_count": 16
  },
  {
   "metadata": {
    "ExecuteTime": {
     "end_time": "2024-08-25T13:52:06.759389Z",
     "start_time": "2024-08-25T13:52:06.757511Z"
    }
   },
   "cell_type": "code",
   "source": [
    "X = [-1.0, -1.0, -1.0] # Input Layer?\n",
    "\n",
    "one = hidden_layer.apply(X)\n",
    "two = output_layer.apply(one)\n",
    "\n",
    "print(two)"
   ],
   "id": "c99ad500b79ebb90",
   "outputs": [
    {
     "name": "stdout",
     "output_type": "stream",
     "text": [
      "[0.0, 1, 0.0]\n"
     ]
    }
   ],
   "execution_count": 26
  },
  {
   "metadata": {
    "ExecuteTime": {
     "end_time": "2024-08-25T12:59:36.900424Z",
     "start_time": "2024-08-25T12:59:36.899205Z"
    }
   },
   "cell_type": "code",
   "source": "",
   "id": "1b3c731a688e4bbe",
   "outputs": [],
   "execution_count": null
  },
  {
   "metadata": {
    "ExecuteTime": {
     "end_time": "2024-08-25T12:59:36.948427Z",
     "start_time": "2024-08-25T12:59:36.947098Z"
    }
   },
   "cell_type": "code",
   "source": "",
   "id": "84484a97b2b39092",
   "outputs": [],
   "execution_count": null
  },
  {
   "metadata": {
    "ExecuteTime": {
     "end_time": "2024-08-25T12:59:36.992730Z",
     "start_time": "2024-08-25T12:59:36.991446Z"
    }
   },
   "cell_type": "code",
   "source": "",
   "id": "44a0f8cee0a17793",
   "outputs": [],
   "execution_count": null
  }
 ],
 "metadata": {
  "kernelspec": {
   "display_name": "Python 3",
   "language": "python",
   "name": "python3"
  },
  "language_info": {
   "codemirror_mode": {
    "name": "ipython",
    "version": 2
   },
   "file_extension": ".py",
   "mimetype": "text/x-python",
   "name": "python",
   "nbconvert_exporter": "python",
   "pygments_lexer": "ipython2",
   "version": "2.7.6"
  }
 },
 "nbformat": 4,
 "nbformat_minor": 5
}
